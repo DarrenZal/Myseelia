{
 "cells": [
  {
   "cell_type": "code",
   "execution_count": 53,
   "id": "95602362",
   "metadata": {},
   "outputs": [
    {
     "ename": "ModuleNotFoundError",
     "evalue": "No module named 'qgrid'",
     "output_type": "error",
     "traceback": [
      "\u001b[0;31m---------------------------------------------------------------------------\u001b[0m",
      "\u001b[0;31mModuleNotFoundError\u001b[0m                       Traceback (most recent call last)",
      "Cell \u001b[0;32mIn[53], line 3\u001b[0m\n\u001b[1;32m      1\u001b[0m \u001b[38;5;28;01mimport\u001b[39;00m \u001b[38;5;21;01mpprint\u001b[39;00m \u001b[38;5;28;01mas\u001b[39;00m \u001b[38;5;21;01mpp\u001b[39;00m\n\u001b[1;32m      2\u001b[0m \u001b[38;5;28;01mimport\u001b[39;00m \u001b[38;5;21;01mpandas\u001b[39;00m \u001b[38;5;28;01mas\u001b[39;00m \u001b[38;5;21;01mpd\u001b[39;00m\n\u001b[0;32m----> 3\u001b[0m \u001b[38;5;28;01mimport\u001b[39;00m \u001b[38;5;21;01mqgrid\u001b[39;00m\n\u001b[1;32m      5\u001b[0m \u001b[38;5;28;01mfrom\u001b[39;00m \u001b[38;5;21;01mterminusdb_client\u001b[39;00m \u001b[38;5;28;01mimport\u001b[39;00m WOQLClient\n\u001b[1;32m      6\u001b[0m \u001b[38;5;28;01mfrom\u001b[39;00m \u001b[38;5;21;01mterminusdb_client\u001b[39;00m\u001b[38;5;21;01m.\u001b[39;00m\u001b[38;5;21;01mwoqlschema\u001b[39;00m \u001b[38;5;28;01mimport\u001b[39;00m WOQLSchema\n",
      "\u001b[0;31mModuleNotFoundError\u001b[0m: No module named 'qgrid'"
     ]
    }
   ],
   "source": [
    "import pprint as pp\n",
    "import pandas as pd\n",
    "import qgrid\n",
    "\n",
    "from terminusdb_client import WOQLClient\n",
    "from terminusdb_client.woqlschema import WOQLSchema\n",
    "from terminusdb_client.woqldataframe import result_to_df\n",
    "from terminusdb_client import WOQLClient\n",
    "from terminusdb_client import WOQLQuery as wq\n",
    "\n",
    "\n",
    "\n",
    "query = (\n",
    "    WQ().triple(\"v:Organization\", \"blockchainecosystem\", \"v:Ethereum\")\n",
    "    .select(\"v:Organization\")\n",
    ")\n",
    "# For Terminus X, use the following\n",
    "# client = WOQLClient(\"https://cloud.terminusdb.com/<Your Team>/\")\n",
    "# client.connect(db=\"demo_workshop\", team=\"<Your Team>\", use_token=True)\n",
    "\n",
    "client = WOQLClient(\"https://cloud.terminusdb.com/Myseelia/\")\n",
    "client.connect(db=\"playground\", team=\"Myseelia\", use_token=True)\n",
    "\n",
    "result = query.execute(client)\n",
    "\n",
    "\n",
    "#print(result[\"bindings\"])\n",
    "\n",
    "df = pd.DataFrame(result['bindings'])\n",
    "\n",
    "qgrid_widget = qgrid.show_grid(df, show_toolbar=True)\n",
    "qgrid_widget\n",
    "#pp.pprint(wq().star().execute(client))"
   ]
  },
  {
   "cell_type": "code",
   "execution_count": null,
   "id": "8373e39c",
   "metadata": {},
   "outputs": [],
   "source": []
  },
  {
   "cell_type": "code",
   "execution_count": null,
   "id": "82ba7bee",
   "metadata": {},
   "outputs": [],
   "source": []
  }
 ],
 "metadata": {
  "kernelspec": {
   "display_name": "Python 3 (ipykernel)",
   "language": "python",
   "name": "python3"
  },
  "language_info": {
   "codemirror_mode": {
    "name": "ipython",
    "version": 3
   },
   "file_extension": ".py",
   "mimetype": "text/x-python",
   "name": "python",
   "nbconvert_exporter": "python",
   "pygments_lexer": "ipython3",
   "version": "3.10.9"
  }
 },
 "nbformat": 4,
 "nbformat_minor": 5
}
