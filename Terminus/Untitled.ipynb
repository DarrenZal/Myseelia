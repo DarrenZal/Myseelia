{
 "cells": [
  {
   "cell_type": "code",
   "execution_count": 27,
   "id": "95602362",
   "metadata": {},
   "outputs": [
    {
     "data": {
      "application/vnd.jupyter.widget-view+json": {
       "model_id": "66b2b7f17b7e4165b1163563e8e0099f",
       "version_major": 2,
       "version_minor": 0
      },
      "text/plain": [
       "Output()"
      ]
     },
     "metadata": {},
     "output_type": "display_data"
    }
   ],
   "source": [
    "import pprint as pp\n",
    "import pandas as pd\n",
    "import ipywidgets as widgets\n",
    "from IPython.display import display\n",
    "\n",
    "from terminusdb_client import WOQLClient\n",
    "from terminusdb_client.woqlschema import WOQLSchema\n",
    "from terminusdb_client.woqldataframe import result_to_df\n",
    "from terminusdb_client import WOQLClient\n",
    "from terminusdb_client import WOQLQuery as wq\n",
    "\n",
    "query = (\n",
    "    wq().triple(\"v:Organization\", \"@schema:blockchainecosystem\", \"blockchainecosystem/Celo\")\n",
    "    .select(\"v:Organization\")\n",
    ")\n",
    "# For Terminus X, use the following\n",
    "# client = WOQLClient(\"https://cloud.terminusdb.com/<Your Team>/\")\n",
    "# client.connect(db=\"demo_workshop\", team=\"<Your Team>\", use_token=True)\n",
    "\n",
    "client = WOQLClient(\"https://cloud.terminusdb.com/Myseelia/\")\n",
    "client.connect(db=\"playground\", team=\"Myseelia\", use_token=True)\n",
    "\n",
    "result = query.execute(client)\n",
    "\n",
    "\n",
    "#print(result[\"bindings\"])\n",
    "\n",
    "df = pd.DataFrame(result['bindings'])\n",
    "\n",
    "output = widgets.Output()\n",
    "\n",
    "@output.capture(clear_output=True, wait=True)\n",
    "def display_df(change):\n",
    "    display(df)\n",
    "\n",
    "display(output)\n",
    "display_df(None)\n"
   ]
  },
  {
   "cell_type": "code",
   "execution_count": 25,
   "id": "8373e39c",
   "metadata": {
    "scrolled": true
   },
   "outputs": [
    {
     "name": "stdout",
     "output_type": "stream",
     "text": [
      "                                                 @id         @type   \n",
      "0  Organization/731083b73a733c76cc8d99adb26b1677d...  Organization  \\\n",
      "\n",
      "         assignee blockchainecosystem           datecreated   \n",
      "0  allegory.earth              [Celo]  2022-05-07T11:03:00Z  \\\n",
      "\n",
      "                                         description   impactarea   \n",
      "0  Allegory invests and builds at the intersectio...  [Investing]  \\\n",
      "\n",
      "                                                logo      name   \n",
      "0  allegory-labs.jpeg (https://v5.airtableusercon...  Allegory  \\\n",
      "\n",
      "  preJan20thUpvotes reviewed submittedbyemail submittedbyname   \n",
      "0                22  checked                                   \\\n",
      "\n",
      "  submittedbyowner subscribed topic upvotes       web3  \n",
      "0                              [VC]      22  [Default]  \n"
     ]
    }
   ],
   "source": [
    "import pprint as pp\n",
    "import pandas as pd\n",
    "import ipywidgets as widgets\n",
    "from IPython.display import display\n",
    "\n",
    "from terminusdb_client import WOQLClient\n",
    "from terminusdb_client.woqlschema import WOQLSchema\n",
    "from terminusdb_client.woqldataframe import result_to_df\n",
    "from terminusdb_client import WOQLClient\n",
    "from terminusdb_client import WOQLQuery as wq\n",
    "\n",
    "doc = client.get_document(\n",
    "    \"Organization/731083b73a733c76cc8d99adb26b1677dd901dae6a2ee8d1190c4ff2f98ab63d\"\n",
    ")\n",
    "\n",
    "df = pd.DataFrame([doc])\n",
    "print(df)\n"
   ]
  },
  {
   "cell_type": "code",
   "execution_count": null,
   "id": "82ba7bee",
   "metadata": {},
   "outputs": [],
   "source": []
  }
 ],
 "metadata": {
  "kernelspec": {
   "display_name": "tdb",
   "language": "python",
   "name": "tdb"
  },
  "language_info": {
   "codemirror_mode": {
    "name": "ipython",
    "version": 3
   },
   "file_extension": ".py",
   "mimetype": "text/x-python",
   "name": "python",
   "nbconvert_exporter": "python",
   "pygments_lexer": "ipython3",
   "version": "3.10.9"
  }
 },
 "nbformat": 4,
 "nbformat_minor": 5
}
